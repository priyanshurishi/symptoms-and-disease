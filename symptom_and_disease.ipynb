{
  "nbformat": 4,
  "nbformat_minor": 0,
  "metadata": {
    "colab": {
      "name": "symptom and disease",
      "provenance": [],
      "authorship_tag": "ABX9TyP7x8lwtzDUf1CuSUlmmQg7",
      "include_colab_link": true
    },
    "kernelspec": {
      "name": "python3",
      "display_name": "Python 3"
    }
  },
  "cells": [
    {
      "cell_type": "markdown",
      "metadata": {
        "id": "view-in-github",
        "colab_type": "text"
      },
      "source": [
        "<a href=\"https://colab.research.google.com/github/priyanshurishi/symptoms-and-disease/blob/main/symptom_and_disease.ipynb\" target=\"_parent\"><img src=\"https://colab.research.google.com/assets/colab-badge.svg\" alt=\"Open In Colab\"/></a>"
      ]
    },
    {
      "cell_type": "code",
      "metadata": {
        "id": "6szkpZSKvvjv"
      },
      "source": [
        "class Disease:\n",
        "     def __init__(self, name, symptoms):\n",
        "         self.name = name\n",
        "         self.symptoms = symptoms\n",
        "\n",
        "\n",
        "known_diseases = [\n",
        "   Disease('cold', set(\n",
        "     \"sore throat|runny nose|congestion|cough|aches\".split(\"|\"))\n",
        "     ),\n",
        "   Disease('flu', set(\n",
        "     \"fever|headache|muscle aches|returning fever\".split(\"|\"))\n",
        "     ),\n",
        "   Disease('ebola', set(\n",
        "     \"tiredness|death|bruising over 90% of body|black blood\".split(\"|\"))\n",
        "     ),\n",
        "   Disease('Allergies', set(\n",
        "     \"eye irritation|runny nose|stuffy nose|watery eyes|sneezing\".split(\"|\"))\n",
        "     ),\n",
        "   Disease('diarrhea', set(\n",
        "     \"watery stools|frequent bowel movements|pain in abdomen|nausea|bloating\".split(\"|\"))\n",
        "     ),\n",
        "   ]\n",
        "\n",
        "\n",
        "# note: for Python 2, use \"raw_input\" instead of input\n",
        "symptoms = input(\"Please enter symptoms separated by commas: \")\n",
        "symptoms = symptoms.lower()\n",
        "symptoms = symptoms.split(\",\")\n",
        "\n",
        "possible = []\n",
        "for symptom in symptoms:\n",
        "     for disease in known_diseases:\n",
        "         if symptom in disease.symptoms:\n",
        "             possible.append(disease.name)\n",
        "\n",
        "if possible:\n",
        "     print(\"You may have these diseases:\")\n",
        "     print(*possible)\n",
        "else:\n",
        "     print(\"Good news! You're going to have a disease named after you!\")"
      ],
      "execution_count": null,
      "outputs": []
    }
  ]
}